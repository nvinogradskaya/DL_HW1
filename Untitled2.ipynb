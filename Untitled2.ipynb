{
  "nbformat": 4,
  "nbformat_minor": 0,
  "metadata": {
    "colab": {
      "provenance": [],
      "authorship_tag": "ABX9TyPgvI0HtjRa8WBOuredq4B4",
      "include_colab_link": true
    },
    "kernelspec": {
      "name": "python3",
      "display_name": "Python 3"
    },
    "language_info": {
      "name": "python"
    }
  },
  "cells": [
    {
      "cell_type": "markdown",
      "metadata": {
        "id": "view-in-github",
        "colab_type": "text"
      },
      "source": [
        "<a href=\"https://colab.research.google.com/github/nvinogradskaya/DL_HW1/blob/main/Untitled2.ipynb\" target=\"_parent\"><img src=\"https://colab.research.google.com/assets/colab-badge.svg\" alt=\"Open In Colab\"/></a>"
      ]
    },
    {
      "cell_type": "code",
      "execution_count": null,
      "metadata": {
        "id": "pCVDzt9K_PRV"
      },
      "outputs": [],
      "source": [
        "import os\n",
        "import numpy as np\n",
        "import pandas as pd\n",
        "import tensorflow as tf\n",
        "from tqdm.auto import tqdm\n",
        "from sklearn.preprocessing import MinMaxScaler\n",
        "from sklearn.model_selection import train_test_split\n",
        "from tensorflow.keras.models import Model\n",
        "from tensorflow.keras.layers import Input, LSTM, Dense, Embedding, Concatenate, LayerNormalization, Attention\n",
        "from tensorflow.keras.callbacks import EarlyStopping\n",
        "from geopy.distance import geodesic\n",
        "import matplotlib.pyplot as plt"
      ]
    },
    {
      "cell_type": "code",
      "source": [
        "MAX_USERS = 3\n",
        "SEQ_LENGTH = 10\n",
        "LSTM_UNITS = 128\n",
        "BATCH_SIZE = 256\n",
        "EPOCHS = 5\n",
        "TEST_SIZE = 0.3\n",
        "EMBEDDING_DIM = 32"
      ],
      "metadata": {
        "id": "eaAKLqFG_l5b"
      },
      "execution_count": null,
      "outputs": []
    },
    {
      "cell_type": "code",
      "source": [
        "def load_data_with_stay_points(data_path):\n",
        "    data = []\n",
        "    user_map = {}\n",
        "    user_dirs = sorted(os.listdir(data_path))[:MAX_USERS]\n",
        "\n",
        "    for idx, user in enumerate(tqdm(user_dirs, desc=\"Users\")):\n",
        "        user_map[user] = idx\n",
        "        traj_dir = os.path.join(data_path, user, 'Trajectory')\n",
        "        for file in os.listdir(traj_dir):\n",
        "            if file.endswith('.plt'):\n",
        "                df = pd.read_csv(os.path.join(traj_dir, file), skiprows=6, header=None,\n",
        "                                 usecols=[0, 1, 3, 5, 6],\n",
        "                                 names=['lat', 'lon', 'alt', 'date', 'time'])\n",
        "                df['datetime'] = pd.to_datetime(df['date'] + ' ' + df['time'])\n",
        "                df['user_id'] = idx\n",
        "                df = detect_stay_points(df)\n",
        "                if df is not None:\n",
        "                    data.append(df)\n",
        "\n",
        "    df_all = pd.concat(data, ignore_index=True)\n",
        "    df_all = df_all[(df_all.lat != 0) & (df_all.lon != 0)].ffill()\n",
        "    scaler = MinMaxScaler()\n",
        "    df_all[['lat', 'lon', 'alt']] = scaler.fit_transform(df_all[['lat', 'lon', 'alt']])\n",
        "    return df_all, user_map, scaler"
      ],
      "metadata": {
        "id": "mfeLkuA4_rsb"
      },
      "execution_count": null,
      "outputs": []
    },
    {
      "cell_type": "code",
      "source": [
        "def detect_stay_points(df, dist_thresh=200, time_thresh=300):\n",
        "    if len(df) < 2:\n",
        "        return None\n",
        "    stays = []\n",
        "    i = 0\n",
        "    while i < len(df) - 1:\n",
        "        j = i + 1\n",
        "        while j < len(df):\n",
        "            d = geodesic((df.iloc[i].lat, df.iloc[i].lon), (df.iloc[j].lat, df.iloc[j].lon)).meters\n",
        "            t = (df.iloc[j].datetime - df.iloc[i].datetime).total_seconds()\n",
        "            if d > dist_thresh:\n",
        "                if t >= time_thresh:\n",
        "                    mean_lat = df.iloc[i:j].lat.mean()\n",
        "                    mean_lon = df.iloc[i:j].lon.mean()\n",
        "                    mean_time = df.iloc[i:j].datetime.iloc[0]\n",
        "                    stays.append({\n",
        "                        'lat': mean_lat, 'lon': mean_lon, 'alt': df.iloc[i:j].alt.mean(),\n",
        "                        'datetime': mean_time, 'user_id': df.iloc[i].user_id\n",
        "                    })\n",
        "                break\n",
        "            j += 1\n",
        "        i = j\n",
        "    return pd.DataFrame(stays) if stays else None"
      ],
      "metadata": {
        "id": "SyTg6JaI_ur9"
      },
      "execution_count": null,
      "outputs": []
    },
    {
      "cell_type": "code",
      "source": [
        "def create_sequences(df, seq_length=SEQ_LENGTH):\n",
        "    sequences = []\n",
        "    next_coords = []\n",
        "    user_ids = []\n",
        "    times = []\n",
        "\n",
        "    df = df.sort_values(['user_id', 'datetime'])\n",
        "    for uid in df.user_id.unique():\n",
        "        user_df = df[df.user_id == uid].reset_index(drop=True)\n",
        "        for i in range(len(user_df) - seq_length):\n",
        "            seq = user_df.iloc[i:i+seq_length]\n",
        "            target = user_df.iloc[i+seq_length]\n",
        "            sequences.append(seq[['lat', 'lon', 'alt']].values)\n",
        "            next_coords.append(target[['lat', 'lon']].values)\n",
        "            user_ids.append(uid)\n",
        "            times.append(target['datetime'].hour)\n",
        "\n",
        "    return np.array(sequences), np.array(next_coords), np.array(user_ids), np.array(times)"
      ],
      "metadata": {
        "id": "ri-rwLpl_xkl"
      },
      "execution_count": null,
      "outputs": []
    },
    {
      "cell_type": "code",
      "source": [
        "from tensorflow.keras.layers import Lambda\n",
        "\n",
        "def build_deepmove_model():\n",
        "    coord_input = Input(shape=(SEQ_LENGTH, 3), name='coord_input')\n",
        "    user_input = Input(shape=(), dtype='int32', name='user_input')\n",
        "    time_input = Input(shape=(), dtype='int32', name='time_input')\n",
        "\n",
        "    user_emb = Embedding(input_dim=MAX_USERS, output_dim=EMBEDDING_DIM)(user_input)\n",
        "    time_emb = Embedding(input_dim=24, output_dim=EMBEDDING_DIM)(time_input)\n",
        "\n",
        "    lstm_out = LSTM(LSTM_UNITS, return_sequences=True)(coord_input)\n",
        "    attention = Attention()([lstm_out, lstm_out])\n",
        "    attn_sum = Lambda(lambda x: tf.reduce_mean(x, axis=1))(attention)  # <-- Фикс тут\n",
        "\n",
        "    x = Concatenate()([attn_sum, user_emb, time_emb])\n",
        "    x = Dense(128, activation='relu')(x)\n",
        "    output = Dense(2)(x)\n",
        "\n",
        "    model = Model(inputs=[coord_input, user_input, time_input], outputs=output)\n",
        "    model.compile(optimizer='adam', loss='mse', metrics=['mae'])\n",
        "    return model"
      ],
      "metadata": {
        "id": "8jOor1n7_1rf"
      },
      "execution_count": null,
      "outputs": []
    },
    {
      "cell_type": "code",
      "source": [
        "def evaluate_metrics(y_true, y_pred):\n",
        "    def latlon_to_meters(lat1, lon1, lat2, lon2):\n",
        "        return np.array([geodesic((a, b), (c, d)).meters for a, b, c, d in zip(lat1, lon1, lat2, lon2)])\n",
        "\n",
        "    lat1, lon1 = y_true[:, 0], y_true[:, 1]\n",
        "    lat2, lon2 = y_pred[:, 0], y_pred[:, 1]\n",
        "    errors = latlon_to_meters(lat1, lon1, lat2, lon2)\n",
        "    ade = np.mean(errors)\n",
        "    fde = errors[-1]\n",
        "    pct_100m = np.mean(errors < 100) * 100\n",
        "    print(f\"\\nADE: {ade:.2f} m | FDE: {fde:.2f} m | % < 100m: {pct_100m:.2f}%\")"
      ],
      "metadata": {
        "id": "W-UxtA1r_4xE"
      },
      "execution_count": null,
      "outputs": []
    },
    {
      "cell_type": "code",
      "source": [
        "from google.colab import drive\n",
        "drive.mount('/content/drive')\n",
        "data_path = \"/content/drive/My Drive/Colab Notebooks/Data/\""
      ],
      "metadata": {
        "id": "SpxaHaY1_7t7"
      },
      "execution_count": null,
      "outputs": []
    },
    {
      "cell_type": "code",
      "source": [
        "df, user_map, scaler = load_data_with_stay_points(data_path)"
      ],
      "metadata": {
        "id": "mtIoQdmrAG7v"
      },
      "execution_count": null,
      "outputs": []
    },
    {
      "cell_type": "code",
      "source": [
        "X, y, users, hours = create_sequences(df)"
      ],
      "metadata": {
        "id": "dxp7BNHrAQ71"
      },
      "execution_count": null,
      "outputs": []
    },
    {
      "cell_type": "code",
      "source": [
        "X_train, X_test, y_train, y_test, u_train, u_test, t_train, t_test = train_test_split(\n",
        "    X, y, users, hours, test_size=TEST_SIZE, random_state=42)"
      ],
      "metadata": {
        "id": "wMTUMNmOAfGx"
      },
      "execution_count": null,
      "outputs": []
    },
    {
      "cell_type": "code",
      "source": [
        "model = build_deepmove_model()\n",
        "model.summary()"
      ],
      "metadata": {
        "id": "uYTLfzKAAhyH"
      },
      "execution_count": null,
      "outputs": []
    },
    {
      "cell_type": "code",
      "source": [
        "X_train = X_train.astype(np.float32)\n",
        "y_train = y_train.astype(np.float32)\n",
        "u_train = u_train.astype(np.int32)\n",
        "t_train = t_train.astype(np.int32)\n",
        "\n",
        "X_test = X_test.astype(np.float32)\n",
        "y_test = y_test.astype(np.float32)\n",
        "u_test = u_test.astype(np.int32)\n",
        "t_test = t_test.astype(np.int32)\n"
      ],
      "metadata": {
        "id": "mN0bU1DoCiTI"
      },
      "execution_count": null,
      "outputs": []
    },
    {
      "cell_type": "code",
      "source": [
        "model.fit(\n",
        "    {'coord_input': X_train, 'user_input': u_train, 'time_input': t_train},\n",
        "    y_train,\n",
        "    validation_split=0.1,\n",
        "    epochs=EPOCHS,\n",
        "    batch_size=BATCH_SIZE,\n",
        "    callbacks=[EarlyStopping(patience=3, restore_best_weights=True)],\n",
        "    verbose=2\n",
        ")"
      ],
      "metadata": {
        "id": "n5F33R-gAjpU"
      },
      "execution_count": null,
      "outputs": []
    },
    {
      "cell_type": "code",
      "source": [
        "y_pred = model.predict({'coord_input': X_test, 'user_input': u_test, 'time_input': t_test})\n",
        "evaluate_metrics(y_test, y_pred)"
      ],
      "metadata": {
        "id": "gXd_wRzrAlzj"
      },
      "execution_count": null,
      "outputs": []
    }
  ]
}