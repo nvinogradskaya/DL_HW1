{
  "nbformat": 4,
  "nbformat_minor": 0,
  "metadata": {
    "colab": {
      "provenance": [],
      "authorship_tag": "ABX9TyNdPFiKkOZ2x/ClEaBfeLB1",
      "include_colab_link": true
    },
    "kernelspec": {
      "name": "python3",
      "display_name": "Python 3"
    },
    "language_info": {
      "name": "python"
    }
  },
  "cells": [
    {
      "cell_type": "markdown",
      "metadata": {
        "id": "view-in-github",
        "colab_type": "text"
      },
      "source": [
        "<a href=\"https://colab.research.google.com/github/nvinogradskaya/DL_HW1/blob/main/Untitled5.ipynb\" target=\"_parent\"><img src=\"https://colab.research.google.com/assets/colab-badge.svg\" alt=\"Open In Colab\"/></a>"
      ]
    },
    {
      "cell_type": "code",
      "execution_count": null,
      "metadata": {
        "id": "sIoqavxk1lyL"
      },
      "outputs": [],
      "source": [
        "import os\n",
        "import pickle\n",
        "from joblib import Parallel, delayed\n",
        "import pandas as pd\n",
        "import numpy as np\n",
        "import tensorflow as tf\n",
        "from sklearn.preprocessing import MinMaxScaler\n",
        "from tensorflow.keras.models import Model\n",
        "from tensorflow.keras.layers import LSTM, Dense, Dropout, Input, Embedding, Concatenate\n",
        "from tensorflow.keras.optimizers import Adam\n",
        "from google.colab import drive"
      ]
    },
    {
      "cell_type": "code",
      "source": [
        "drive.mount('/content/drive')\n",
        "\n",
        "DATA_PATH = \"/content/drive/My Drive/Colab Notebooks/Data/\"\n",
        "SAVE_PATH = \"/content/drive/My Drive/Colab Notebooks/contrastive_results/\"\n",
        "os.makedirs(SAVE_PATH, exist_ok=True)"
      ],
      "metadata": {
        "colab": {
          "base_uri": "https://localhost:8080/"
        },
        "id": "Qiv8ZelL1rPy",
        "outputId": "f9a0dd40-1951-46ee-dc3d-ebee068e8231"
      },
      "execution_count": null,
      "outputs": [
        {
          "output_type": "stream",
          "name": "stdout",
          "text": [
            "Mounted at /content/drive\n"
          ]
        }
      ]
    },
    {
      "cell_type": "code",
      "source": [
        "SEQ_LENGTH = 10\n",
        "EMBEDDING_DIM = 16\n",
        "LSTM_UNITS = 64\n",
        "BATCH_SIZE = 64\n",
        "EPOCHS = 5"
      ],
      "metadata": {
        "id": "rEJDSSxW2LQe"
      },
      "execution_count": null,
      "outputs": []
    },
    {
      "cell_type": "code",
      "source": [
        "class ContrastiveLoss(tf.keras.losses.Loss):\n",
        "    def __init__(self, margin=1.0):\n",
        "        super().__init__()\n",
        "        self.margin = margin\n",
        "\n",
        "    def call(self, y_true, y_pred):\n",
        "        anchor, positive = y_pred[:, 0], y_pred[:, 1]\n",
        "        distances = tf.reduce_sum(tf.square(anchor - positive), axis=-1)\n",
        "        loss = y_true * distances + (1 - y_true) * tf.maximum(self.margin - distances, 0)\n",
        "        return tf.reduce_mean(loss)\n"
      ],
      "metadata": {
        "id": "JNma5nne2QwW"
      },
      "execution_count": null,
      "outputs": []
    },
    {
      "cell_type": "code",
      "source": [
        "def load_and_preprocess_data(data_path, max_users=10):\n",
        "    data = []\n",
        "    user_dirs = sorted(os.listdir(data_path))[:max_users]\n",
        "\n",
        "    for user in user_dirs:\n",
        "        traj_dir = os.path.join(data_path, user, 'Trajectory')\n",
        "        traj_files = [f for f in os.listdir(traj_dir) if f.endswith('.plt')]\n",
        "\n",
        "        for traj_file in traj_files:\n",
        "            df = pd.read_csv(\n",
        "                os.path.join(traj_dir, traj_file),\n",
        "                skiprows=6,\n",
        "                header=None,\n",
        "                usecols=[0, 1, 3, 5, 6],\n",
        "                names=['lat', 'lon', 'alt', 'date', 'time']\n",
        "            )\n",
        "            df['user'] = user\n",
        "            data.append(df)\n",
        "\n",
        "    df = pd.concat(data, ignore_index=True)\n",
        "    df['datetime'] = pd.to_datetime(df['date'] + ' ' + df['time'])\n",
        "    df.sort_values(by=['user', 'datetime'], inplace=True)\n",
        "\n",
        "    # Фильтрация и нормализация\n",
        "    df = df[(df['lat'] != 0) & (df['lon'] != 0)].ffill()\n",
        "    scaler = MinMaxScaler()\n",
        "    df[['lat', 'lon', 'alt']] = scaler.fit_transform(df[['lat', 'lon', 'alt']])\n",
        "\n",
        "    # Временные признаки\n",
        "    df['hour_sin'] = np.sin(2 * np.pi * df['datetime'].dt.hour / 24)\n",
        "    df['hour_cos'] = np.cos(2 * np.pi * df['datetime'].dt.hour / 24)\n",
        "    df['day_sin'] = np.sin(2 * np.pi * df['datetime'].dt.dayofweek / 7)\n",
        "    df['day_cos'] = np.cos(2 * np.pi * df['datetime'].dt.dayofweek / 7)\n",
        "\n",
        "    # ID пользователей\n",
        "    user_ids = {user: idx for idx, user in enumerate(df['user'].unique())}\n",
        "    df['user_id'] = df['user'].map(user_ids)\n",
        "\n",
        "    return df, user_ids, scaler"
      ],
      "metadata": {
        "id": "fNk4kW4S2TjH"
      },
      "execution_count": null,
      "outputs": []
    },
    {
      "cell_type": "code",
      "source": [
        "def create_sequences(df, user_ids, seq_length):\n",
        "    features = ['lat', 'lon', 'alt', 'hour_sin', 'hour_cos', 'day_sin', 'day_cos']\n",
        "    targets = ['lat', 'lon']\n",
        "\n",
        "    X, y, users = [], [], []\n",
        "    for user, group in df.groupby('user'):\n",
        "        user_data = group[features].values\n",
        "        user_targets = group[targets].values\n",
        "        user_id = user_ids[user]\n",
        "\n",
        "        for i in range(len(user_data) - seq_length):\n",
        "            X.append(user_data[i:i+seq_length])\n",
        "            y.append(user_targets[i+seq_length])\n",
        "            users.append(user_id)\n",
        "\n",
        "    return np.array(X), np.array(y), np.array(users)"
      ],
      "metadata": {
        "id": "rGMpDYev2XXU"
      },
      "execution_count": null,
      "outputs": []
    },
    {
      "cell_type": "code",
      "source": [
        "class ContrastiveModel(tf.keras.Model):\n",
        "    def __init__(self, num_users, embedding_dim, seq_length, num_features):\n",
        "        super().__init__()\n",
        "        self.embedding = Embedding(num_users, embedding_dim)\n",
        "        self.lstm = LSTM(32)\n",
        "        self.dense = Dense(embedding_dim, activation='tanh')\n",
        "\n",
        "    def call(self, inputs):\n",
        "        seq, user_id = inputs\n",
        "        user_emb = self.embedding(user_id)\n",
        "        seq_features = self.lstm(seq)\n",
        "        return self.dense(tf.concat([seq_features, user_emb], axis=-1))"
      ],
      "metadata": {
        "id": "Qr_D57TO2b2j"
      },
      "execution_count": null,
      "outputs": []
    },
    {
      "cell_type": "code",
      "source": [
        "def build_lstm_model(seq_length, embedding_dim, num_features, num_users):  # Добавлен num_users\n",
        "    seq_input = Input(shape=(seq_length, num_features))\n",
        "    user_input = Input(shape=(1,), dtype=tf.int32)\n",
        "\n",
        "    # Контрастивный эмбеддинг пользователя\n",
        "    user_emb = Embedding(input_dim=num_users, output_dim=embedding_dim)(user_input)\n",
        "    user_emb = tf.keras.layers.Reshape((embedding_dim,))(user_emb)  # Исправлено\n",
        "\n",
        "    # Обработка последовательности через LSTM\n",
        "    lstm_out = LSTM(LSTM_UNITS, return_sequences=False)(seq_input)\n",
        "\n",
        "    # Объединение эмбеддинга пользователя и выходных признаков LSTM\n",
        "    combined = Concatenate()([lstm_out, user_emb])\n",
        "\n",
        "    # Полносвязные слои\n",
        "    dense_out = Dense(64, activation='relu')(combined)\n",
        "    dense_out = Dropout(0.2)(dense_out)\n",
        "    dense_out = Dense(32, activation='relu')(dense_out)\n",
        "    final_output = Dense(2, activation='linear')(dense_out)  # Предсказание lat, lon\n",
        "\n",
        "    model = Model(inputs=[seq_input, user_input], outputs=final_output)\n",
        "    model.compile(optimizer=Adam(0.001), loss='mse', metrics=['mae'])\n",
        "    return model"
      ],
      "metadata": {
        "id": "WwLTgfSo2e3z"
      },
      "execution_count": null,
      "outputs": []
    },
    {
      "cell_type": "code",
      "source": [
        "df, user_ids, scaler = load_and_preprocess_data(DATA_PATH)\n",
        "X, y, users = create_sequences(df, user_ids, SEQ_LENGTH)"
      ],
      "metadata": {
        "id": "mHVLkuJk2iV1"
      },
      "execution_count": null,
      "outputs": []
    },
    {
      "cell_type": "code",
      "source": [
        "contrastive_model = ContrastiveModel(\n",
        "    num_users=len(user_ids),\n",
        "    embedding_dim=EMBEDDING_DIM,\n",
        "    seq_length=SEQ_LENGTH,\n",
        "    num_features=X.shape[-1]\n",
        ")"
      ],
      "metadata": {
        "id": "ici0ddET3Jjp"
      },
      "execution_count": null,
      "outputs": []
    },
    {
      "cell_type": "code",
      "source": [
        "contrastive_model.compile(optimizer=Adam(0.001), loss=ContrastiveLoss())\n",
        "\n",
        "# Обучение контрастивной модели\n",
        "contrastive_model.fit(\n",
        "    [X, users],\n",
        "    np.zeros(len(X)),  # Временные метки, не нужны в данной версии\n",
        "    epochs=5,\n",
        "    batch_size=BATCH_SIZE\n",
        ")"
      ],
      "metadata": {
        "colab": {
          "base_uri": "https://localhost:8080/"
        },
        "id": "FnIdntHn3byC",
        "outputId": "23c88e4a-5937-4b59-e4aa-26520b2c6bdd"
      },
      "execution_count": null,
      "outputs": [
        {
          "output_type": "stream",
          "name": "stdout",
          "text": [
            "Epoch 1/5\n",
            "\u001b[1m28842/28842\u001b[0m \u001b[32m━━━━━━━━━━━━━━━━━━━━\u001b[0m\u001b[37m\u001b[0m \u001b[1m198s\u001b[0m 7ms/step - loss: 2.3145e-10\n",
            "Epoch 2/5\n",
            "\u001b[1m28842/28842\u001b[0m \u001b[32m━━━━━━━━━━━━━━━━━━━━\u001b[0m\u001b[37m\u001b[0m \u001b[1m192s\u001b[0m 7ms/step - loss: 0.0000e+00\n",
            "Epoch 3/5\n",
            "\u001b[1m28842/28842\u001b[0m \u001b[32m━━━━━━━━━━━━━━━━━━━━\u001b[0m\u001b[37m\u001b[0m \u001b[1m202s\u001b[0m 7ms/step - loss: 0.0000e+00\n",
            "Epoch 4/5\n",
            "\u001b[1m28842/28842\u001b[0m \u001b[32m━━━━━━━━━━━━━━━━━━━━\u001b[0m\u001b[37m\u001b[0m \u001b[1m201s\u001b[0m 7ms/step - loss: 0.0000e+00\n",
            "Epoch 5/5\n",
            "\u001b[1m28842/28842\u001b[0m \u001b[32m━━━━━━━━━━━━━━━━━━━━\u001b[0m\u001b[37m\u001b[0m \u001b[1m200s\u001b[0m 7ms/step - loss: 0.0000e+00\n"
          ]
        },
        {
          "output_type": "execute_result",
          "data": {
            "text/plain": [
              "<keras.src.callbacks.history.History at 0x78c420abd850>"
            ]
          },
          "metadata": {},
          "execution_count": 11
        }
      ]
    },
    {
      "cell_type": "code",
      "source": [
        "# При создании модели передаем num_users\n",
        "lstm_model = build_lstm_model(\n",
        "    seq_length=SEQ_LENGTH,\n",
        "    embedding_dim=EMBEDDING_DIM,\n",
        "    num_features=X.shape[-1],\n",
        "    num_users=len(user_ids)  # Добавлено\n",
        ")"
      ],
      "metadata": {
        "id": "cb-hqrrv7oJt"
      },
      "execution_count": null,
      "outputs": []
    },
    {
      "cell_type": "code",
      "source": [
        "lstm_model.fit(\n",
        "    [X, users],\n",
        "    y,\n",
        "    epochs=EPOCHS,\n",
        "    batch_size=BATCH_SIZE,\n",
        "    validation_split=0.2\n",
        ")"
      ],
      "metadata": {
        "colab": {
          "base_uri": "https://localhost:8080/"
        },
        "id": "Mui_x6H3-HBX",
        "outputId": "ebbdc782-a24c-4a1f-8e08-56c1b798addd"
      },
      "execution_count": null,
      "outputs": [
        {
          "output_type": "stream",
          "name": "stdout",
          "text": [
            "Epoch 1/5\n",
            "\u001b[1m23073/23073\u001b[0m \u001b[32m━━━━━━━━━━━━━━━━━━━━\u001b[0m\u001b[37m\u001b[0m \u001b[1m249s\u001b[0m 11ms/step - loss: 0.0025 - mae: 0.0155 - val_loss: 0.0016 - val_mae: 0.0086\n",
            "Epoch 2/5\n",
            "\u001b[1m23073/23073\u001b[0m \u001b[32m━━━━━━━━━━━━━━━━━━━━\u001b[0m\u001b[37m\u001b[0m \u001b[1m264s\u001b[0m 11ms/step - loss: 2.0528e-05 - mae: 0.0024 - val_loss: 0.0019 - val_mae: 0.0102\n",
            "Epoch 3/5\n",
            "\u001b[1m23073/23073\u001b[0m \u001b[32m━━━━━━━━━━━━━━━━━━━━\u001b[0m\u001b[37m\u001b[0m \u001b[1m279s\u001b[0m 11ms/step - loss: 1.3111e-05 - mae: 0.0019 - val_loss: 0.0026 - val_mae: 0.0107\n",
            "Epoch 4/5\n",
            "\u001b[1m23073/23073\u001b[0m \u001b[32m━━━━━━━━━━━━━━━━━━━━\u001b[0m\u001b[37m\u001b[0m \u001b[1m305s\u001b[0m 11ms/step - loss: 9.8003e-06 - mae: 0.0016 - val_loss: 0.0023 - val_mae: 0.0100\n",
            "Epoch 5/5\n",
            "\u001b[1m23073/23073\u001b[0m \u001b[32m━━━━━━━━━━━━━━━━━━━━\u001b[0m\u001b[37m\u001b[0m \u001b[1m245s\u001b[0m 11ms/step - loss: 9.4524e-06 - mae: 0.0015 - val_loss: 0.0013 - val_mae: 0.0085\n"
          ]
        },
        {
          "output_type": "execute_result",
          "data": {
            "text/plain": [
              "<keras.src.callbacks.history.History at 0x78c42038fe10>"
            ]
          },
          "metadata": {},
          "execution_count": 17
        }
      ]
    },
    {
      "cell_type": "code",
      "source": [
        "lstm_model.save(os.path.join(SAVE_PATH, \"lstm_model.h5\"))"
      ],
      "metadata": {
        "colab": {
          "base_uri": "https://localhost:8080/"
        },
        "id": "Z85AwIPIQzx2",
        "outputId": "3fc313e7-d3fd-44cf-9fd2-347e7739f4bc"
      },
      "execution_count": null,
      "outputs": [
        {
          "output_type": "stream",
          "name": "stderr",
          "text": [
            "WARNING:absl:You are saving your model as an HDF5 file via `model.save()` or `keras.saving.save_model(model)`. This file format is considered legacy. We recommend using instead the native Keras format, e.g. `model.save('my_model.keras')` or `keras.saving.save_model(model, 'my_model.keras')`. \n"
          ]
        }
      ]
    },
    {
      "cell_type": "code",
      "source": [
        "import matplotlib.pyplot as plt\n",
        "\n",
        "history = lstm_model.history.history\n",
        "\n",
        "plt.figure(figsize=(12, 4))\n",
        "plt.subplot(1, 2, 1)\n",
        "plt.plot(history['loss'], label='Train Loss')\n",
        "plt.plot(history['val_loss'], label='Validation Loss')\n",
        "plt.title('Loss')\n",
        "plt.legend()\n",
        "\n",
        "plt.subplot(1, 2, 2)\n",
        "plt.plot(history['mae'], label='Train MAE')\n",
        "plt.plot(history['val_mae'], label='Validation MAE')\n",
        "plt.title('MAE')\n",
        "plt.legend()\n",
        "plt.show()"
      ],
      "metadata": {
        "colab": {
          "base_uri": "https://localhost:8080/",
          "height": 391
        },
        "id": "WDUUSgHNTu5-",
        "outputId": "0a9e992d-6233-429c-bc65-933ff989ff69"
      },
      "execution_count": null,
      "outputs": [
        {
          "output_type": "display_data",
          "data": {
            "text/plain": [
              "<Figure size 1200x400 with 2 Axes>"
            ],
            "image/png": "[encoded data removed]"
          },
          "metadata": {}
        }
      ]
    },
    {
      "cell_type": "code",
      "source": [],
      "metadata": {
        "id": "x8ljimpnc91u"
      },
      "execution_count": null,
      "outputs": []
    }
  ]
}