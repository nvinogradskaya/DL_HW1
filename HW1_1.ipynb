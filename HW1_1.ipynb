{
 "cells": [
  {
   "cell_type": "code",
   "execution_count": 13,
   "id": "e9cfa458-bf58-4576-b1d4-fa33ae93a37b",
   "metadata": {},
   "outputs": [],
   "source": [
    "import numpy as np\n",
    "import pandas as pd\n",
    "import torch\n",
    "from sklearn.preprocessing import StandardScaler\n",
    "from sklearn.metrics import accuracy_score\n"
   ]
  },
  {
   "cell_type": "code",
   "execution_count": 15,
   "id": "5cf4c654-9614-4234-9007-d2305b5c3362",
   "metadata": {},
   "outputs": [],
   "source": [
    "features_df = pd.read_csv('train_x.csv')\n",
    "labels_df = pd.read_csv('train_y.csv')"
   ]
  },
  {
   "cell_type": "code",
   "execution_count": 17,
   "id": "a2b6dd2b-dfe5-4342-8978-aac65ad9bc70",
   "metadata": {},
   "outputs": [],
   "source": [
    "features_df.drop(columns=['Unnamed: 0'], inplace=True)\n",
    "labels_df.drop(columns=['Unnamed: 0'], inplace=True)\n",
    "\n",
    "mask = (labels_df['year'] == 2000) | (labels_df['year'] == 2002)\n",
    "X_features = features_df[mask].to_numpy()\n",
    "y_labels = labels_df[mask].replace({2000: 0, 2002: 1}).to_numpy().ravel()\n",
    "\n",
    "scaler = StandardScaler()\n",
    "X_normalized = scaler.fit_transform(X_features)"
   ]
  },
  {
   "cell_type": "code",
   "execution_count": 19,
   "id": "bf7c6181-57f4-49aa-a5e8-94b4aeec082b",
   "metadata": {},
   "outputs": [],
   "source": [
    "def sigmoid(z):\n",
    "    return 1.0 / (1.0 + torch.exp(-z))"
   ]
  },
  {
   "cell_type": "code",
   "execution_count": 21,
   "id": "1dfea57f-8add-4cc4-ab64-e61a59f7ef6b",
   "metadata": {},
   "outputs": [],
   "source": [
    "def compute_nll(predictions, targets):\n",
    "    epsilon = 1e-10 \n",
    "    predictions = torch.clamp(predictions, epsilon, 1 - epsilon)\n",
    "    return - (targets * torch.log(predictions) + (1 - targets) * torch.log(1 - predictions))"
   ]
  },
  {
   "cell_type": "code",
   "execution_count": 23,
   "id": "b415aa69-5895-45d2-ad05-90e180c38c74",
   "metadata": {},
   "outputs": [],
   "source": [
    "def train_sigmoid_neuron(X, y, weights, bias, learning_rate, num_epochs):\n",
    "    X_tensor = torch.tensor(X, dtype=torch.float64)\n",
    "    y_tensor = torch.tensor(y, dtype=torch.float64)    \n",
    "    weight_tensor = torch.tensor(weights, dtype=torch.float64)\n",
    "    bias_tensor = torch.tensor(bias, dtype=torch.float64)\n",
    "    loss_history = []\n",
    "    for epoch in range(num_epochs):\n",
    "        cumulative_loss = 0.0\n",
    "        total_weight_gradient = torch.zeros_like(weight_tensor)\n",
    "        total_bias_gradient = 0.0       \n",
    "        for i in range(len(X_tensor)):\n",
    "            x_sample = X_tensor[i]\n",
    "            y_sample = y_tensor[i]\n",
    "            z = torch.dot(weight_tensor, x_sample) + bias_tensor\n",
    "            y_pred = sigmoid(z)\n",
    "            loss = compute_nll(y_pred, y_sample)\n",
    "            cumulative_loss += loss.item()            \n",
    "            error = y_pred - y_sample\n",
    "            weight_gradient = error * x_sample\n",
    "            bias_gradient = error            \n",
    "            total_weight_gradient += weight_gradient\n",
    "            total_bias_gradient += bias_gradient\n",
    "        \n",
    "        weight_gradient_mean = total_weight_gradient / len(X_tensor)\n",
    "        bias_gradient_mean = total_bias_gradient / len(X_tensor)       \n",
    "        weight_tensor -= learning_rate * weight_gradient_mean\n",
    "        bias_tensor -= learning_rate * bias_gradient_mean\n",
    "        avg_loss = cumulative_loss / len(X_tensor)\n",
    "        loss_history.append(round(avg_loss, 4))\n",
    "    \n",
    "    final_weights = [round(w.item(), 4) for w in weight_tensor]\n",
    "    final_bias = round(bias_tensor.item(), 4)   \n",
    "    return final_weights, final_bias, loss_history"
   ]
  },
  {
   "cell_type": "code",
   "execution_count": 25,
   "id": "690513e7-3b48-40f2-b75c-15fbc413d5d8",
   "metadata": {},
   "outputs": [],
   "source": [
    "initial_weights = np.random.uniform(-1, 1, X_normalized.shape[1])\n",
    "initial_bias = 0.0\n",
    "learning_rate = 0.01\n",
    "epochs = 20\n",
    "\n",
    "weights, bias, loss_values = train_sigmoid_neuron(X_normalized, y_labels, initial_weights, initial_bias, learning_rate, epochs)"
   ]
  },
  {
   "cell_type": "code",
   "execution_count": 31,
   "id": "59c6a323-08b5-4aa5-92bd-7868f6835391",
   "metadata": {},
   "outputs": [
    {
     "name": "stdout",
     "output_type": "stream",
     "text": [
      "weights: [0.2386, 0.1989, -0.6175, 0.9336, -0.5482, 0.5449, 0.9188, -0.0322, -0.0354, 0.7702, -0.0661, -0.0636, 0.1232, -0.6076, 0.7494, -0.8349, 0.6, 0.5549, -0.3905, 0.9741, 0.6779, -0.0348, -0.9246, -0.595, -0.0519, 0.7853, -0.9505, -0.8597, -0.7947, -0.3133, 0.3675, 0.9624, 0.9575, 0.4339, 0.9713, -0.0362, 0.4268, -0.4664, -0.6041, 0.4399, -0.5329, 0.597, 0.3723, -0.9053, 0.3228, -0.1197, -0.1323, -0.2709, -0.023, 0.9897, 0.8285, -0.5294, -0.7971, 0.9163, -0.1953, 0.2388, 0.1027, -0.657, 0.887, 0.7506, 0.8712, 0.3836, 0.0872, 0.1045, 0.5627, -0.6615, -0.2895, -0.7575, 0.7575, 0.1646, 0.6435, -0.6168, 0.3126, -0.2266, 0.855, -0.4351, 0.6138, -0.034, 0.9445, -0.6722, -0.1426, 0.2638, -0.9277, -0.2057, -0.3085, -0.7369, -0.2361, -0.2306, 0.0858, 0.8779]\n",
      "\n",
      "bias: 0.004\n",
      "\n",
      "loss_values: [1.8611, 1.8594, 1.8576, 1.8559, 1.8541, 1.8524, 1.8507, 1.849, 1.8473, 1.8456, 1.8439, 1.8422, 1.8405, 1.8388, 1.8371, 1.8354, 1.8338, 1.8321, 1.8304, 1.8288]\n"
     ]
    }
   ],
   "source": [
    "print(\"weights:\", weights)\n",
    "print()\n",
    "print(\"bias:\", bias)\n",
    "print()\n",
    "print(\"loss_values:\", loss_values)"
   ]
  },
  {
   "cell_type": "code",
   "execution_count": 33,
   "id": "3ed9c98f-9bcf-4d9d-932e-3cd60108e149",
   "metadata": {},
   "outputs": [
    {
     "name": "stdout",
     "output_type": "stream",
     "text": [
      "accuracy: 50.36%\n"
     ]
    }
   ],
   "source": [
    "predictions = sigmoid(torch.matmul(torch.tensor(X_normalized, dtype=torch.float64), torch.tensor(weights, dtype=torch.float64)) + bias)\n",
    "rounded_predictions = torch.round(predictions)\n",
    "accuracy = (rounded_predictions.numpy() == y_labels).mean()\n",
    "print(f\"accuracy: {round(accuracy * 100, 2)}%\")"
   ]
  },
  {
   "cell_type": "code",
   "execution_count": null,
   "id": "2e6f010c-f594-41f7-8c19-b00f69b67b12",
   "metadata": {},
   "outputs": [],
   "source": []
  }
 ],
 "metadata": {
  "kernelspec": {
   "display_name": "Python 3 (ipykernel)",
   "language": "python",
   "name": "python3"
  },
  "language_info": {
   "codemirror_mode": {
    "name": "ipython",
    "version": 3
   },
   "file_extension": ".py",
   "mimetype": "text/x-python",
   "name": "python",
   "nbconvert_exporter": "python",
   "pygments_lexer": "ipython3",
   "version": "3.12.4"
  }
 },
 "nbformat": 4,
 "nbformat_minor": 5
}
